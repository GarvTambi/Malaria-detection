{
 "cells": [
  {
   "cell_type": "markdown",
   "metadata": {},
   "source": [
    "## Creating CNN Using Scratch And Transfer Learning"
   ]
  },
  {
   "cell_type": "markdown",
   "metadata": {},
   "source": [
    "Please download the dataset from the below url"
   ]
  },
  {
   "cell_type": "code",
   "execution_count": 26,
   "metadata": {},
   "outputs": [
    {
     "name": "stdout",
     "output_type": "stream",
     "text": [
      "2.1.1\n"
     ]
    }
   ],
   "source": [
    "import tensorflow as tf\n",
    "print(tf.__version__)"
   ]
  },
  {
   "cell_type": "code",
   "execution_count": 27,
   "metadata": {},
   "outputs": [],
   "source": [
    "# import the libraries as shown below\n",
    "\n",
    "from tensorflow.keras.layers import Input, Lambda, Dense, Flatten,Conv2D\n",
    "from tensorflow.keras.models import Model\n",
    "from tensorflow.keras.applications.vgg19 import VGG19\n",
    "from tensorflow.keras.applications.resnet50 import preprocess_input\n",
    "from tensorflow.keras.preprocessing import image\n",
    "from tensorflow.keras.preprocessing.image import ImageDataGenerator,load_img\n",
    "from tensorflow.keras.models import Sequential\n",
    "import numpy as np\n",
    "from glob import glob\n",
    "import matplotlib.pyplot as plt"
   ]
  },
  {
   "cell_type": "code",
   "execution_count": 28,
   "metadata": {},
   "outputs": [],
   "source": [
    "# re-size all the images to this\n",
    "IMAGE_SIZE = [224, 224]\n",
    "\n",
    "train_path = 'Dataset/Train'\n",
    "valid_path = 'Dataset/Test'\n"
   ]
  },
  {
   "cell_type": "code",
   "execution_count": 29,
   "metadata": {},
   "outputs": [],
   "source": [
    "# Import the Vgg 16 library as shown below and add preprocessing layer to the front of VGG\n",
    "# Here we will be using imagenet weights\n",
    "\n",
    "mobilnet = VGG19(input_shape=IMAGE_SIZE + [3], weights='imagenet', include_top=False)\n",
    "\n",
    "\n"
   ]
  },
  {
   "cell_type": "code",
   "execution_count": 30,
   "metadata": {},
   "outputs": [
    {
     "name": "stdout",
     "output_type": "stream",
     "text": [
      "Model: \"vgg19\"\n",
      "_________________________________________________________________\n",
      "Layer (type)                 Output Shape              Param #   \n",
      "=================================================================\n",
      "input_4 (InputLayer)         [(None, 224, 224, 3)]     0         \n",
      "_________________________________________________________________\n",
      "block1_conv1 (Conv2D)        (None, 224, 224, 64)      1792      \n",
      "_________________________________________________________________\n",
      "block1_conv2 (Conv2D)        (None, 224, 224, 64)      36928     \n",
      "_________________________________________________________________\n",
      "block1_pool (MaxPooling2D)   (None, 112, 112, 64)      0         \n",
      "_________________________________________________________________\n",
      "block2_conv1 (Conv2D)        (None, 112, 112, 128)     73856     \n",
      "_________________________________________________________________\n",
      "block2_conv2 (Conv2D)        (None, 112, 112, 128)     147584    \n",
      "_________________________________________________________________\n",
      "block2_pool (MaxPooling2D)   (None, 56, 56, 128)       0         \n",
      "_________________________________________________________________\n",
      "block3_conv1 (Conv2D)        (None, 56, 56, 256)       295168    \n",
      "_________________________________________________________________\n",
      "block3_conv2 (Conv2D)        (None, 56, 56, 256)       590080    \n",
      "_________________________________________________________________\n",
      "block3_conv3 (Conv2D)        (None, 56, 56, 256)       590080    \n",
      "_________________________________________________________________\n",
      "block3_conv4 (Conv2D)        (None, 56, 56, 256)       590080    \n",
      "_________________________________________________________________\n",
      "block3_pool (MaxPooling2D)   (None, 28, 28, 256)       0         \n",
      "_________________________________________________________________\n",
      "block4_conv1 (Conv2D)        (None, 28, 28, 512)       1180160   \n",
      "_________________________________________________________________\n",
      "block4_conv2 (Conv2D)        (None, 28, 28, 512)       2359808   \n",
      "_________________________________________________________________\n",
      "block4_conv3 (Conv2D)        (None, 28, 28, 512)       2359808   \n",
      "_________________________________________________________________\n",
      "block4_conv4 (Conv2D)        (None, 28, 28, 512)       2359808   \n",
      "_________________________________________________________________\n",
      "block4_pool (MaxPooling2D)   (None, 14, 14, 512)       0         \n",
      "_________________________________________________________________\n",
      "block5_conv1 (Conv2D)        (None, 14, 14, 512)       2359808   \n",
      "_________________________________________________________________\n",
      "block5_conv2 (Conv2D)        (None, 14, 14, 512)       2359808   \n",
      "_________________________________________________________________\n",
      "block5_conv3 (Conv2D)        (None, 14, 14, 512)       2359808   \n",
      "_________________________________________________________________\n",
      "block5_conv4 (Conv2D)        (None, 14, 14, 512)       2359808   \n",
      "_________________________________________________________________\n",
      "block5_pool (MaxPooling2D)   (None, 7, 7, 512)         0         \n",
      "=================================================================\n",
      "Total params: 20,024,384\n",
      "Trainable params: 20,024,384\n",
      "Non-trainable params: 0\n",
      "_________________________________________________________________\n"
     ]
    }
   ],
   "source": [
    "mobilnet.summary()"
   ]
  },
  {
   "cell_type": "code",
   "execution_count": 31,
   "metadata": {},
   "outputs": [],
   "source": [
    "# don't train existing weights\n",
    "for layer in mobilnet.layers:\n",
    "    layer.trainable = False"
   ]
  },
  {
   "cell_type": "code",
   "execution_count": 32,
   "metadata": {},
   "outputs": [],
   "source": [
    "  # useful for getting number of output classes\n",
    "folders = glob('Dataset/Train/*')"
   ]
  },
  {
   "cell_type": "code",
   "execution_count": 34,
   "metadata": {},
   "outputs": [
    {
     "data": {
      "text/plain": [
       "['Dataset/Train/Uninfected', 'Dataset/Train/Parasite']"
      ]
     },
     "execution_count": 34,
     "metadata": {},
     "output_type": "execute_result"
    }
   ],
   "source": [
    "folders"
   ]
  },
  {
   "cell_type": "code",
   "execution_count": 35,
   "metadata": {},
   "outputs": [],
   "source": [
    "# our layers - you can add more if you want\n",
    "x = Flatten()(mobilnet.output)"
   ]
  },
  {
   "cell_type": "code",
   "execution_count": 36,
   "metadata": {},
   "outputs": [],
   "source": [
    "prediction = Dense(len(folders), activation='softmax')(x)\n",
    "\n",
    "# create a model object\n",
    "model = Model(inputs=mobilnet.input, outputs=prediction)"
   ]
  },
  {
   "cell_type": "code",
   "execution_count": 37,
   "metadata": {},
   "outputs": [
    {
     "name": "stdout",
     "output_type": "stream",
     "text": [
      "Model: \"model\"\n",
      "_________________________________________________________________\n",
      "Layer (type)                 Output Shape              Param #   \n",
      "=================================================================\n",
      "input_4 (InputLayer)         [(None, 224, 224, 3)]     0         \n",
      "_________________________________________________________________\n",
      "block1_conv1 (Conv2D)        (None, 224, 224, 64)      1792      \n",
      "_________________________________________________________________\n",
      "block1_conv2 (Conv2D)        (None, 224, 224, 64)      36928     \n",
      "_________________________________________________________________\n",
      "block1_pool (MaxPooling2D)   (None, 112, 112, 64)      0         \n",
      "_________________________________________________________________\n",
      "block2_conv1 (Conv2D)        (None, 112, 112, 128)     73856     \n",
      "_________________________________________________________________\n",
      "block2_conv2 (Conv2D)        (None, 112, 112, 128)     147584    \n",
      "_________________________________________________________________\n",
      "block2_pool (MaxPooling2D)   (None, 56, 56, 128)       0         \n",
      "_________________________________________________________________\n",
      "block3_conv1 (Conv2D)        (None, 56, 56, 256)       295168    \n",
      "_________________________________________________________________\n",
      "block3_conv2 (Conv2D)        (None, 56, 56, 256)       590080    \n",
      "_________________________________________________________________\n",
      "block3_conv3 (Conv2D)        (None, 56, 56, 256)       590080    \n",
      "_________________________________________________________________\n",
      "block3_conv4 (Conv2D)        (None, 56, 56, 256)       590080    \n",
      "_________________________________________________________________\n",
      "block3_pool (MaxPooling2D)   (None, 28, 28, 256)       0         \n",
      "_________________________________________________________________\n",
      "block4_conv1 (Conv2D)        (None, 28, 28, 512)       1180160   \n",
      "_________________________________________________________________\n",
      "block4_conv2 (Conv2D)        (None, 28, 28, 512)       2359808   \n",
      "_________________________________________________________________\n",
      "block4_conv3 (Conv2D)        (None, 28, 28, 512)       2359808   \n",
      "_________________________________________________________________\n",
      "block4_conv4 (Conv2D)        (None, 28, 28, 512)       2359808   \n",
      "_________________________________________________________________\n",
      "block4_pool (MaxPooling2D)   (None, 14, 14, 512)       0         \n",
      "_________________________________________________________________\n",
      "block5_conv1 (Conv2D)        (None, 14, 14, 512)       2359808   \n",
      "_________________________________________________________________\n",
      "block5_conv2 (Conv2D)        (None, 14, 14, 512)       2359808   \n",
      "_________________________________________________________________\n",
      "block5_conv3 (Conv2D)        (None, 14, 14, 512)       2359808   \n",
      "_________________________________________________________________\n",
      "block5_conv4 (Conv2D)        (None, 14, 14, 512)       2359808   \n",
      "_________________________________________________________________\n",
      "block5_pool (MaxPooling2D)   (None, 7, 7, 512)         0         \n",
      "_________________________________________________________________\n",
      "flatten (Flatten)            (None, 25088)             0         \n",
      "_________________________________________________________________\n",
      "dense (Dense)                (None, 2)                 50178     \n",
      "=================================================================\n",
      "Total params: 20,074,562\n",
      "Trainable params: 50,178\n",
      "Non-trainable params: 20,024,384\n",
      "_________________________________________________________________\n"
     ]
    }
   ],
   "source": [
    "\n",
    "# view the structure of the model\n",
    "model.summary()\n"
   ]
  },
  {
   "cell_type": "code",
   "execution_count": 37,
   "metadata": {},
   "outputs": [],
   "source": [
    "from tensorflow.keras.layers import MaxPooling2D"
   ]
  },
  {
   "cell_type": "code",
   "execution_count": 38,
   "metadata": {},
   "outputs": [
    {
     "name": "stdout",
     "output_type": "stream",
     "text": [
      "Model: \"sequential_1\"\n",
      "_________________________________________________________________\n",
      "Layer (type)                 Output Shape              Param #   \n",
      "=================================================================\n",
      "conv2d_1 (Conv2D)            (None, 224, 224, 16)      208       \n",
      "_________________________________________________________________\n",
      "max_pooling2d (MaxPooling2D) (None, 112, 112, 16)      0         \n",
      "_________________________________________________________________\n",
      "conv2d_2 (Conv2D)            (None, 112, 112, 32)      2080      \n",
      "_________________________________________________________________\n",
      "max_pooling2d_1 (MaxPooling2 (None, 56, 56, 32)        0         \n",
      "_________________________________________________________________\n",
      "conv2d_3 (Conv2D)            (None, 56, 56, 64)        8256      \n",
      "_________________________________________________________________\n",
      "max_pooling2d_2 (MaxPooling2 (None, 28, 28, 64)        0         \n",
      "_________________________________________________________________\n",
      "flatten_1 (Flatten)          (None, 50176)             0         \n",
      "_________________________________________________________________\n",
      "dense_1 (Dense)              (None, 500)               25088500  \n",
      "_________________________________________________________________\n",
      "dense_2 (Dense)              (None, 2)                 1002      \n",
      "=================================================================\n",
      "Total params: 25,100,046\n",
      "Trainable params: 25,100,046\n",
      "Non-trainable params: 0\n",
      "_________________________________________________________________\n"
     ]
    }
   ],
   "source": [
    "### Create Model from scratch using CNN\n",
    "model=Sequential()\n",
    "model.add(Conv2D(filters=16,kernel_size=2,padding=\"same\",activation=\"relu\",input_shape=(224,224,3)))\n",
    "model.add(MaxPooling2D(pool_size=2))\n",
    "model.add(Conv2D(filters=32,kernel_size=2,padding=\"same\",activation =\"relu\"))\n",
    "model.add(MaxPooling2D(pool_size=2))\n",
    "model.add(Conv2D(filters=64,kernel_size=2,padding=\"same\",activation=\"relu\"))\n",
    "model.add(MaxPooling2D(pool_size=2))\n",
    "model.add(Flatten())\n",
    "model.add(Dense(500,activation=\"relu\"))\n",
    "model.add(Dense(2,activation=\"softmax\"))\n",
    "model.summary()"
   ]
  },
  {
   "cell_type": "code",
   "execution_count": 40,
   "metadata": {},
   "outputs": [],
   "source": [
    "# tell the model what cost and optimization method to use\n",
    "model.compile(\n",
    "  loss='categorical_crossentropy',\n",
    "  optimizer='adam',\n",
    "  metrics=['accuracy']\n",
    ")\n"
   ]
  },
  {
   "cell_type": "code",
   "execution_count": 41,
   "metadata": {},
   "outputs": [],
   "source": [
    "# Use the Image Data Generator to import the images from the dataset\n",
    "from tensorflow.keras.preprocessing.image import ImageDataGenerator\n",
    "\n",
    "train_datagen = ImageDataGenerator(rescale = 1./255,\n",
    "                                   shear_range = 0.2,\n",
    "                                   zoom_range = 0.2,\n",
    "                                   horizontal_flip = True)\n",
    "\n",
    "test_datagen = ImageDataGenerator(rescale = 1./255)"
   ]
  },
  {
   "cell_type": "code",
   "execution_count": 42,
   "metadata": {},
   "outputs": [
    {
     "name": "stdout",
     "output_type": "stream",
     "text": [
      "Found 416 images belonging to 2 classes.\n"
     ]
    }
   ],
   "source": [
    "# Make sure you provide the same target size as initialied for the image size\n",
    "training_set = train_datagen.flow_from_directory('Dataset/Train',\n",
    "                                                 target_size = (224, 224),\n",
    "                                                 batch_size = 32,\n",
    "                                                 class_mode = 'categorical')"
   ]
  },
  {
   "cell_type": "code",
   "execution_count": 43,
   "metadata": {},
   "outputs": [
    {
     "data": {
      "text/plain": [
       "<keras_preprocessing.image.directory_iterator.DirectoryIterator at 0x7fb3b9611a10>"
      ]
     },
     "execution_count": 43,
     "metadata": {},
     "output_type": "execute_result"
    }
   ],
   "source": [
    "training_set"
   ]
  },
  {
   "cell_type": "code",
   "execution_count": 44,
   "metadata": {},
   "outputs": [
    {
     "name": "stdout",
     "output_type": "stream",
     "text": [
      "Found 134 images belonging to 2 classes.\n"
     ]
    }
   ],
   "source": [
    "test_set = test_datagen.flow_from_directory('Dataset/Test',\n",
    "                                            target_size = (224, 224),\n",
    "                                            batch_size = 32,\n",
    "                                            class_mode = 'categorical')"
   ]
  },
  {
   "cell_type": "code",
   "execution_count": 46,
   "metadata": {
    "scrolled": true
   },
   "outputs": [
    {
     "name": "stdout",
     "output_type": "stream",
     "text": [
      "WARNING:tensorflow:From <ipython-input-46-69229fe26ea3>:8: Model.fit_generator (from tensorflow.python.keras.engine.training) is deprecated and will be removed in a future version.\n",
      "Instructions for updating:\n",
      "Please use Model.fit, which supports generators.\n",
      "WARNING:tensorflow:sample_weight modes were coerced from\n",
      "  ...\n",
      "    to  \n",
      "  ['...']\n",
      "WARNING:tensorflow:sample_weight modes were coerced from\n",
      "  ...\n",
      "    to  \n",
      "  ['...']\n",
      "Train for 13 steps, validate for 5 steps\n",
      "Epoch 1/50\n",
      "13/13 [==============================] - 269s 21s/step - loss: 1.0735 - accuracy: 0.5913 - val_loss: 0.5419 - val_accuracy: 0.6940\n",
      "Epoch 2/50\n",
      "13/13 [==============================] - 208s 16s/step - loss: 0.5243 - accuracy: 0.7356 - val_loss: 0.6662 - val_accuracy: 0.6866\n",
      "Epoch 3/50\n",
      "13/13 [==============================] - 185s 14s/step - loss: 0.3858 - accuracy: 0.8438 - val_loss: 0.4831 - val_accuracy: 0.7015\n",
      "Epoch 4/50\n",
      "13/13 [==============================] - 233s 18s/step - loss: 0.3412 - accuracy: 0.8389 - val_loss: 0.4457 - val_accuracy: 0.8060\n",
      "Epoch 5/50\n",
      "13/13 [==============================] - 219s 17s/step - loss: 0.3020 - accuracy: 0.8942 - val_loss: 0.4520 - val_accuracy: 0.7761\n",
      "Epoch 6/50\n",
      "13/13 [==============================] - 159s 12s/step - loss: 0.2743 - accuracy: 0.9135 - val_loss: 0.3544 - val_accuracy: 0.8806\n",
      "Epoch 7/50\n",
      "13/13 [==============================] - 160s 12s/step - loss: 0.2576 - accuracy: 0.9014 - val_loss: 0.3180 - val_accuracy: 0.9104\n",
      "Epoch 8/50\n",
      "13/13 [==============================] - 160s 12s/step - loss: 0.2387 - accuracy: 0.9135 - val_loss: 0.3561 - val_accuracy: 0.8731\n",
      "Epoch 9/50\n",
      "13/13 [==============================] - 160s 12s/step - loss: 0.2165 - accuracy: 0.9255 - val_loss: 0.4898 - val_accuracy: 0.7463\n",
      "Epoch 10/50\n",
      "13/13 [==============================] - 160s 12s/step - loss: 0.1960 - accuracy: 0.9207 - val_loss: 0.5211 - val_accuracy: 0.7463\n",
      "Epoch 11/50\n",
      "13/13 [==============================] - 160s 12s/step - loss: 0.2186 - accuracy: 0.9183 - val_loss: 0.4692 - val_accuracy: 0.7463\n",
      "Epoch 12/50\n",
      "13/13 [==============================] - 159s 12s/step - loss: 0.2002 - accuracy: 0.9327 - val_loss: 0.2748 - val_accuracy: 0.9179\n",
      "Epoch 13/50\n",
      "13/13 [==============================] - 160s 12s/step - loss: 0.1840 - accuracy: 0.9327 - val_loss: 0.4914 - val_accuracy: 0.7537\n",
      "Epoch 14/50\n",
      "13/13 [==============================] - 159s 12s/step - loss: 0.2841 - accuracy: 0.8630 - val_loss: 0.2956 - val_accuracy: 0.8582\n",
      "Epoch 15/50\n",
      "13/13 [==============================] - 159s 12s/step - loss: 0.1597 - accuracy: 0.9351 - val_loss: 0.4204 - val_accuracy: 0.8060\n",
      "Epoch 16/50\n",
      "13/13 [==============================] - 159s 12s/step - loss: 0.1667 - accuracy: 0.9447 - val_loss: 0.2666 - val_accuracy: 0.8881\n",
      "Epoch 17/50\n",
      "13/13 [==============================] - 159s 12s/step - loss: 0.1517 - accuracy: 0.9543 - val_loss: 0.2444 - val_accuracy: 0.9104\n",
      "Epoch 18/50\n",
      "13/13 [==============================] - 159s 12s/step - loss: 0.1204 - accuracy: 0.9639 - val_loss: 0.2291 - val_accuracy: 0.9179\n",
      "Epoch 19/50\n",
      "13/13 [==============================] - 159s 12s/step - loss: 0.1355 - accuracy: 0.9615 - val_loss: 0.1966 - val_accuracy: 0.9478\n",
      "Epoch 20/50\n",
      "13/13 [==============================] - 160s 12s/step - loss: 0.1611 - accuracy: 0.9495 - val_loss: 0.2941 - val_accuracy: 0.8731\n",
      "Epoch 21/50\n",
      "13/13 [==============================] - 159s 12s/step - loss: 0.1211 - accuracy: 0.9519 - val_loss: 0.2026 - val_accuracy: 0.9254\n",
      "Epoch 22/50\n",
      "13/13 [==============================] - 160s 12s/step - loss: 0.1228 - accuracy: 0.9591 - val_loss: 0.2182 - val_accuracy: 0.9403\n",
      "Epoch 23/50\n",
      "13/13 [==============================] - 159s 12s/step - loss: 0.1313 - accuracy: 0.9567 - val_loss: 0.2892 - val_accuracy: 0.8881\n",
      "Epoch 24/50\n",
      "13/13 [==============================] - 159s 12s/step - loss: 0.1442 - accuracy: 0.9423 - val_loss: 0.3624 - val_accuracy: 0.8433\n",
      "Epoch 25/50\n",
      "13/13 [==============================] - 159s 12s/step - loss: 0.1625 - accuracy: 0.9375 - val_loss: 0.2451 - val_accuracy: 0.8955\n",
      "Epoch 26/50\n",
      "13/13 [==============================] - 159s 12s/step - loss: 0.1801 - accuracy: 0.9135 - val_loss: 0.2079 - val_accuracy: 0.9403\n",
      "Epoch 27/50\n",
      "13/13 [==============================] - 159s 12s/step - loss: 0.1386 - accuracy: 0.9519 - val_loss: 0.3236 - val_accuracy: 0.8507\n",
      "Epoch 28/50\n",
      "13/13 [==============================] - 160s 12s/step - loss: 0.1225 - accuracy: 0.9543 - val_loss: 0.2875 - val_accuracy: 0.8881\n",
      "Epoch 29/50\n",
      "13/13 [==============================] - 159s 12s/step - loss: 0.1075 - accuracy: 0.9591 - val_loss: 0.1970 - val_accuracy: 0.9328\n",
      "Epoch 30/50\n",
      "13/13 [==============================] - 159s 12s/step - loss: 0.1278 - accuracy: 0.9591 - val_loss: 0.3698 - val_accuracy: 0.8284\n",
      "Epoch 31/50\n",
      "13/13 [==============================] - 159s 12s/step - loss: 0.1008 - accuracy: 0.9688 - val_loss: 0.1854 - val_accuracy: 0.9403\n",
      "Epoch 32/50\n",
      "13/13 [==============================] - 159s 12s/step - loss: 0.1120 - accuracy: 0.9663 - val_loss: 0.3448 - val_accuracy: 0.8582\n",
      "Epoch 33/50\n",
      "13/13 [==============================] - 159s 12s/step - loss: 0.0968 - accuracy: 0.9688 - val_loss: 0.2046 - val_accuracy: 0.9403\n",
      "Epoch 34/50\n",
      "13/13 [==============================] - 159s 12s/step - loss: 0.0890 - accuracy: 0.9760 - val_loss: 0.2687 - val_accuracy: 0.8806\n",
      "Epoch 35/50\n",
      "13/13 [==============================] - 160s 12s/step - loss: 0.0722 - accuracy: 0.9880 - val_loss: 0.2739 - val_accuracy: 0.8881\n",
      "Epoch 36/50\n",
      "13/13 [==============================] - 159s 12s/step - loss: 0.0890 - accuracy: 0.9712 - val_loss: 0.2343 - val_accuracy: 0.9179\n",
      "Epoch 37/50\n",
      "13/13 [==============================] - 159s 12s/step - loss: 0.0926 - accuracy: 0.9832 - val_loss: 0.1764 - val_accuracy: 0.9403\n",
      "Epoch 38/50\n",
      "13/13 [==============================] - 159s 12s/step - loss: 0.1174 - accuracy: 0.9615 - val_loss: 0.4739 - val_accuracy: 0.7687\n",
      "Epoch 39/50\n",
      "13/13 [==============================] - 159s 12s/step - loss: 0.0955 - accuracy: 0.9736 - val_loss: 0.2100 - val_accuracy: 0.9403\n",
      "Epoch 40/50\n",
      "13/13 [==============================] - 159s 12s/step - loss: 0.0871 - accuracy: 0.9784 - val_loss: 0.2222 - val_accuracy: 0.9328\n",
      "Epoch 41/50\n",
      "13/13 [==============================] - 159s 12s/step - loss: 0.0737 - accuracy: 0.9808 - val_loss: 0.2093 - val_accuracy: 0.9179\n",
      "Epoch 42/50\n",
      "13/13 [==============================] - 159s 12s/step - loss: 0.0645 - accuracy: 0.9856 - val_loss: 0.1880 - val_accuracy: 0.9328\n",
      "Epoch 43/50\n",
      "13/13 [==============================] - 160s 12s/step - loss: 0.0663 - accuracy: 0.9784 - val_loss: 0.2428 - val_accuracy: 0.8955\n",
      "Epoch 44/50\n",
      "13/13 [==============================] - 159s 12s/step - loss: 0.0760 - accuracy: 0.9712 - val_loss: 0.2014 - val_accuracy: 0.9254\n",
      "Epoch 45/50\n",
      "13/13 [==============================] - 161s 12s/step - loss: 0.0881 - accuracy: 0.9712 - val_loss: 0.6792 - val_accuracy: 0.7164\n",
      "Epoch 46/50\n",
      "13/13 [==============================] - 159s 12s/step - loss: 0.0932 - accuracy: 0.9688 - val_loss: 0.2305 - val_accuracy: 0.9104\n",
      "Epoch 47/50\n",
      "13/13 [==============================] - 160s 12s/step - loss: 0.0643 - accuracy: 0.9904 - val_loss: 0.2831 - val_accuracy: 0.8806\n",
      "Epoch 48/50\n",
      "13/13 [==============================] - 166s 13s/step - loss: 0.0698 - accuracy: 0.9736 - val_loss: 0.3191 - val_accuracy: 0.8582\n",
      "Epoch 49/50\n",
      "13/13 [==============================] - 159s 12s/step - loss: 0.0587 - accuracy: 0.9904 - val_loss: 0.1761 - val_accuracy: 0.9403\n",
      "Epoch 50/50\n",
      "13/13 [==============================] - 160s 12s/step - loss: 0.0804 - accuracy: 0.9808 - val_loss: 0.3969 - val_accuracy: 0.8358\n"
     ]
    }
   ],
   "source": [
    "# fit the model\n",
    "# Run the cell. It will take some time to execute\n",
    "r = model.fit_generator(\n",
    "  training_set,\n",
    "  validation_data=test_set,\n",
    "  epochs=50,\n",
    "  steps_per_epoch=len(training_set),\n",
    "  validation_steps=len(test_set)\n",
    ")"
   ]
  },
  {
   "cell_type": "code",
   "execution_count": null,
   "metadata": {},
   "outputs": [],
   "source": []
  },
  {
   "cell_type": "code",
   "execution_count": 47,
   "metadata": {},
   "outputs": [
    {
     "data": {
      "image/png": "[encoded data removed]",
      "text/plain": [
       "<Figure size 432x288 with 1 Axes>"
      ]
     },
     "metadata": {
      "needs_background": "light"
     },
     "output_type": "display_data"
    },
    {
     "data": {
      "image/png": "[encoded data removed]",
      "text/plain": [
       "<Figure size 432x288 with 1 Axes>"
      ]
     },
     "metadata": {
      "needs_background": "light"
     },
     "output_type": "display_data"
    },
    {
     "data": {
      "text/plain": [
       "<Figure size 432x288 with 0 Axes>"
      ]
     },
     "metadata": {},
     "output_type": "display_data"
    }
   ],
   "source": [
    "# plot the loss\n",
    "plt.plot(r.history['loss'], label='train loss')\n",
    "plt.plot(r.history['val_loss'], label='val loss')\n",
    "plt.legend()\n",
    "plt.show()\n",
    "plt.savefig('LossVal_loss')\n",
    "\n",
    "# plot the accuracy\n",
    "plt.plot(r.history['accuracy'], label='train acc')\n",
    "plt.plot(r.history['val_accuracy'], label='val acc')\n",
    "plt.legend()\n",
    "plt.show()\n",
    "plt.savefig('AccVal_acc')"
   ]
  },
  {
   "cell_type": "code",
   "execution_count": 48,
   "metadata": {},
   "outputs": [],
   "source": [
    "# save it as a h5 file\n",
    "\n",
    "\n",
    "from tensorflow.keras.models import load_model\n",
    "\n",
    "model.save('model_vgg19.h5')"
   ]
  },
  {
   "cell_type": "code",
   "execution_count": null,
   "metadata": {},
   "outputs": [],
   "source": []
  },
  {
   "cell_type": "code",
   "execution_count": 49,
   "metadata": {},
   "outputs": [],
   "source": [
    "\n",
    "y_pred = model.predict(test_set)\n"
   ]
  },
  {
   "cell_type": "code",
   "execution_count": 50,
   "metadata": {},
   "outputs": [
    {
     "data": {
      "text/plain": [
       "array([[4.44760872e-03, 9.95552361e-01],\n",
       "       [4.32941020e-01, 5.67058980e-01],\n",
       "       [4.75326627e-01, 5.24673402e-01],\n",
       "       [2.33274437e-02, 9.76672530e-01],\n",
       "       [9.99910831e-01, 8.91563031e-05],\n",
       "       [3.43693733e-01, 6.56306326e-01],\n",
       "       [5.97378565e-03, 9.94026184e-01],\n",
       "       [9.94839966e-01, 5.16008353e-03],\n",
       "       [9.99675751e-01, 3.24257417e-04],\n",
       "       [1.02016078e-02, 9.89798427e-01],\n",
       "       [5.03535680e-02, 9.49646473e-01],\n",
       "       [9.01341319e-01, 9.86586586e-02],\n",
       "       [1.53362462e-02, 9.84663785e-01],\n",
       "       [9.86938357e-01, 1.30616724e-02],\n",
       "       [1.28209731e-02, 9.87179041e-01],\n",
       "       [9.93525743e-01, 6.47423137e-03],\n",
       "       [1.16847716e-01, 8.83152306e-01],\n",
       "       [2.33906746e-01, 7.66093254e-01],\n",
       "       [4.76200832e-03, 9.95237947e-01],\n",
       "       [2.33242717e-02, 9.76675689e-01],\n",
       "       [3.19390148e-01, 6.80609882e-01],\n",
       "       [9.99760211e-01, 2.39842790e-04],\n",
       "       [9.84033823e-01, 1.59661230e-02],\n",
       "       [9.90714192e-01, 9.28583276e-03],\n",
       "       [7.08295286e-01, 2.91704744e-01],\n",
       "       [9.89227653e-01, 1.07723502e-02],\n",
       "       [1.95457488e-02, 9.80454266e-01],\n",
       "       [9.99992132e-01, 7.87709905e-06],\n",
       "       [1.41596142e-02, 9.85840440e-01],\n",
       "       [2.04902999e-02, 9.79509652e-01],\n",
       "       [9.97524917e-01, 2.47503538e-03],\n",
       "       [9.99991655e-01, 8.37419157e-06],\n",
       "       [9.91122723e-01, 8.87723453e-03],\n",
       "       [3.74855008e-03, 9.96251523e-01],\n",
       "       [9.79687989e-01, 2.03119852e-02],\n",
       "       [4.69604880e-02, 9.53039527e-01],\n",
       "       [3.11281774e-02, 9.68871772e-01],\n",
       "       [8.05791438e-01, 1.94208533e-01],\n",
       "       [5.47069125e-03, 9.94529307e-01],\n",
       "       [2.93905549e-02, 9.70609486e-01],\n",
       "       [9.61781144e-01, 3.82188745e-02],\n",
       "       [1.76211357e-01, 8.23788702e-01],\n",
       "       [3.34611863e-01, 6.65388107e-01],\n",
       "       [1.88589036e-01, 8.11410904e-01],\n",
       "       [1.10490760e-02, 9.88950908e-01],\n",
       "       [9.99953866e-01, 4.61588170e-05],\n",
       "       [3.76841873e-01, 6.23158097e-01],\n",
       "       [9.92419541e-01, 7.58038228e-03],\n",
       "       [4.07452043e-03, 9.95925546e-01],\n",
       "       [9.99206007e-01, 7.93963613e-04],\n",
       "       [5.74795485e-01, 4.25204575e-01],\n",
       "       [9.99981165e-01, 1.87984788e-05],\n",
       "       [9.33368862e-01, 6.66311756e-02],\n",
       "       [9.99831796e-01, 1.68149505e-04],\n",
       "       [9.30474818e-01, 6.95252120e-02],\n",
       "       [1.90475043e-02, 9.80952442e-01],\n",
       "       [3.68683320e-03, 9.96313155e-01],\n",
       "       [9.60542381e-01, 3.94575894e-02],\n",
       "       [5.10279238e-01, 4.89720821e-01],\n",
       "       [9.17768598e-01, 8.22314173e-02],\n",
       "       [7.28015304e-02, 9.27198529e-01],\n",
       "       [9.95870307e-03, 9.90041316e-01],\n",
       "       [1.84241626e-02, 9.81575847e-01],\n",
       "       [4.48025716e-03, 9.95519757e-01],\n",
       "       [8.48692477e-01, 1.51307508e-01],\n",
       "       [9.99977589e-01, 2.24684336e-05],\n",
       "       [1.06508620e-02, 9.89349127e-01],\n",
       "       [9.88662168e-02, 9.01133716e-01],\n",
       "       [7.33700097e-01, 2.66299933e-01],\n",
       "       [9.98189986e-01, 1.81003532e-03],\n",
       "       [2.02536538e-01, 7.97463536e-01],\n",
       "       [1.77585497e-01, 8.22414458e-01],\n",
       "       [9.99415517e-01, 5.84473892e-04],\n",
       "       [9.96020138e-01, 3.97985568e-03],\n",
       "       [4.48405683e-01, 5.51594317e-01],\n",
       "       [1.65475179e-02, 9.83452499e-01],\n",
       "       [1.46608716e-02, 9.85339165e-01],\n",
       "       [9.95788872e-01, 4.21114638e-03],\n",
       "       [1.15800120e-01, 8.84199917e-01],\n",
       "       [2.90162917e-02, 9.70983744e-01],\n",
       "       [4.84664291e-02, 9.51533616e-01],\n",
       "       [9.84092951e-01, 1.59070939e-02],\n",
       "       [8.85805301e-03, 9.91141915e-01],\n",
       "       [5.98711669e-01, 4.01288271e-01],\n",
       "       [4.70160007e-01, 5.29839933e-01],\n",
       "       [9.99937654e-01, 6.23688320e-05],\n",
       "       [9.98471797e-01, 1.52821024e-03],\n",
       "       [5.82929611e-01, 4.17070329e-01],\n",
       "       [7.16157816e-03, 9.92838442e-01],\n",
       "       [2.31885407e-02, 9.76811469e-01],\n",
       "       [9.98395383e-01, 1.60463771e-03],\n",
       "       [1.00000000e+00, 4.04010407e-08],\n",
       "       [5.29798687e-01, 4.70201284e-01],\n",
       "       [2.80364633e-01, 7.19635367e-01],\n",
       "       [8.23159218e-02, 9.17684078e-01],\n",
       "       [6.08157337e-01, 3.91842663e-01],\n",
       "       [5.79264294e-03, 9.94207382e-01],\n",
       "       [9.98767853e-01, 1.23223022e-03],\n",
       "       [5.18976711e-03, 9.94810224e-01],\n",
       "       [9.99754369e-01, 2.45592528e-04],\n",
       "       [5.41155279e-01, 4.58844751e-01],\n",
       "       [9.99782979e-01, 2.17064779e-04],\n",
       "       [1.61569135e-03, 9.98384356e-01],\n",
       "       [7.03358352e-01, 2.96641678e-01],\n",
       "       [3.02859824e-02, 9.69713986e-01],\n",
       "       [9.98673797e-01, 1.32624840e-03],\n",
       "       [9.99999881e-01, 7.79031168e-08],\n",
       "       [1.65005047e-02, 9.83499467e-01],\n",
       "       [6.00024521e-01, 3.99975449e-01],\n",
       "       [9.84795019e-03, 9.90152061e-01],\n",
       "       [9.96904910e-01, 3.09508247e-03],\n",
       "       [9.99812901e-01, 1.87174432e-04],\n",
       "       [4.69985515e-01, 5.30014455e-01],\n",
       "       [9.99317765e-01, 6.82304904e-04],\n",
       "       [9.99703228e-01, 2.96757848e-04],\n",
       "       [5.17399192e-01, 4.82600719e-01],\n",
       "       [9.51444637e-03, 9.90485489e-01],\n",
       "       [9.98037636e-01, 1.96243124e-03],\n",
       "       [6.61648298e-03, 9.93383467e-01],\n",
       "       [9.99996066e-01, 3.93352548e-06],\n",
       "       [1.42456954e-02, 9.85754251e-01],\n",
       "       [9.68077481e-01, 3.19225974e-02],\n",
       "       [8.32218468e-01, 1.67781517e-01],\n",
       "       [3.12642545e-01, 6.87357485e-01],\n",
       "       [9.37798738e-01, 6.22012205e-02],\n",
       "       [1.38737373e-02, 9.86126244e-01],\n",
       "       [9.54723477e-01, 4.52765785e-02],\n",
       "       [9.99584019e-01, 4.15944727e-04],\n",
       "       [9.75587294e-02, 9.02441204e-01],\n",
       "       [2.46583130e-02, 9.75341737e-01],\n",
       "       [6.91141486e-01, 3.08858544e-01],\n",
       "       [8.10979962e-01, 1.89020008e-01],\n",
       "       [9.99697566e-01, 3.02425062e-04],\n",
       "       [6.83346450e-01, 3.16653520e-01]], dtype=float32)"
      ]
     },
     "execution_count": 50,
     "metadata": {},
     "output_type": "execute_result"
    }
   ],
   "source": [
    "y_pred"
   ]
  },
  {
   "cell_type": "code",
   "execution_count": 51,
   "metadata": {},
   "outputs": [],
   "source": [
    "import numpy as np\n",
    "y_pred = np.argmax(y_pred, axis=1)"
   ]
  },
  {
   "cell_type": "code",
   "execution_count": 52,
   "metadata": {},
   "outputs": [
    {
     "data": {
      "text/plain": [
       "array([1, 1, 1, 1, 0, 1, 1, 0, 0, 1, 1, 0, 1, 0, 1, 0, 1, 1, 1, 1, 1, 0,\n",
       "       0, 0, 0, 0, 1, 0, 1, 1, 0, 0, 0, 1, 0, 1, 1, 0, 1, 1, 0, 1, 1, 1,\n",
       "       1, 0, 1, 0, 1, 0, 0, 0, 0, 0, 0, 1, 1, 0, 0, 0, 1, 1, 1, 1, 0, 0,\n",
       "       1, 1, 0, 0, 1, 1, 0, 0, 1, 1, 1, 0, 1, 1, 1, 0, 1, 0, 1, 0, 0, 0,\n",
       "       1, 1, 0, 0, 0, 1, 1, 0, 1, 0, 1, 0, 0, 0, 1, 0, 1, 0, 0, 1, 0, 1,\n",
       "       0, 0, 1, 0, 0, 0, 1, 0, 1, 0, 1, 0, 0, 1, 0, 1, 0, 0, 1, 1, 0, 0,\n",
       "       0, 0])"
      ]
     },
     "execution_count": 52,
     "metadata": {},
     "output_type": "execute_result"
    }
   ],
   "source": [
    "y_pred"
   ]
  },
  {
   "cell_type": "code",
   "execution_count": null,
   "metadata": {},
   "outputs": [],
   "source": []
  },
  {
   "cell_type": "code",
   "execution_count": 36,
   "metadata": {},
   "outputs": [],
   "source": [
    "from tensorflow.keras.models import load_model\n",
    "from tensorflow.keras.preprocessing import image"
   ]
  },
  {
   "cell_type": "code",
   "execution_count": 22,
   "metadata": {},
   "outputs": [],
   "source": [
    "model=load_model('model_vgg19.h5')"
   ]
  },
  {
   "cell_type": "code",
   "execution_count": null,
   "metadata": {},
   "outputs": [],
   "source": []
  },
  {
   "cell_type": "code",
   "execution_count": 26,
   "metadata": {},
   "outputs": [],
   "source": [
    "img=image.load_img('Dataset/Test/Uninfected/2.png',target_size=(224,224))\n",
    "\n"
   ]
  },
  {
   "cell_type": "code",
   "execution_count": 27,
   "metadata": {},
   "outputs": [
    {
     "data": {
      "text/plain": [
       "array([[[0., 0., 0.],\n",
       "        [0., 0., 0.],\n",
       "        [0., 0., 0.],\n",
       "        ...,\n",
       "        [0., 0., 0.],\n",
       "        [0., 0., 0.],\n",
       "        [0., 0., 0.]],\n",
       "\n",
       "       [[0., 0., 0.],\n",
       "        [0., 0., 0.],\n",
       "        [0., 0., 0.],\n",
       "        ...,\n",
       "        [0., 0., 0.],\n",
       "        [0., 0., 0.],\n",
       "        [0., 0., 0.]],\n",
       "\n",
       "       [[0., 0., 0.],\n",
       "        [0., 0., 0.],\n",
       "        [0., 0., 0.],\n",
       "        ...,\n",
       "        [0., 0., 0.],\n",
       "        [0., 0., 0.],\n",
       "        [0., 0., 0.]],\n",
       "\n",
       "       ...,\n",
       "\n",
       "       [[0., 0., 0.],\n",
       "        [0., 0., 0.],\n",
       "        [0., 0., 0.],\n",
       "        ...,\n",
       "        [0., 0., 0.],\n",
       "        [0., 0., 0.],\n",
       "        [0., 0., 0.]],\n",
       "\n",
       "       [[0., 0., 0.],\n",
       "        [0., 0., 0.],\n",
       "        [0., 0., 0.],\n",
       "        ...,\n",
       "        [0., 0., 0.],\n",
       "        [0., 0., 0.],\n",
       "        [0., 0., 0.]],\n",
       "\n",
       "       [[0., 0., 0.],\n",
       "        [0., 0., 0.],\n",
       "        [0., 0., 0.],\n",
       "        ...,\n",
       "        [0., 0., 0.],\n",
       "        [0., 0., 0.],\n",
       "        [0., 0., 0.]]], dtype=float32)"
      ]
     },
     "execution_count": 27,
     "metadata": {},
     "output_type": "execute_result"
    }
   ],
   "source": [
    "x=image.img_to_array(img)\n",
    "x"
   ]
  },
  {
   "cell_type": "code",
   "execution_count": 28,
   "metadata": {},
   "outputs": [
    {
     "data": {
      "text/plain": [
       "(224, 224, 3)"
      ]
     },
     "execution_count": 28,
     "metadata": {},
     "output_type": "execute_result"
    }
   ],
   "source": [
    "x.shape"
   ]
  },
  {
   "cell_type": "code",
   "execution_count": 29,
   "metadata": {},
   "outputs": [],
   "source": [
    "x=x/255"
   ]
  },
  {
   "cell_type": "code",
   "execution_count": 30,
   "metadata": {},
   "outputs": [
    {
     "data": {
      "text/plain": [
       "(1, 224, 224, 3)"
      ]
     },
     "execution_count": 30,
     "metadata": {},
     "output_type": "execute_result"
    }
   ],
   "source": [
    "x=np.expand_dims(x,axis=0)\n",
    "img_data=preprocess_input(x)\n",
    "img_data.shape"
   ]
  },
  {
   "cell_type": "code",
   "execution_count": 31,
   "metadata": {},
   "outputs": [
    {
     "data": {
      "text/plain": [
       "array([[0.01155142, 0.98844856]], dtype=float32)"
      ]
     },
     "execution_count": 31,
     "metadata": {},
     "output_type": "execute_result"
    }
   ],
   "source": [
    "model.predict(img_data)"
   ]
  },
  {
   "cell_type": "code",
   "execution_count": 32,
   "metadata": {},
   "outputs": [],
   "source": [
    "a=np.argmax(model.predict(img_data), axis=1)"
   ]
  },
  {
   "cell_type": "code",
   "execution_count": 35,
   "metadata": {},
   "outputs": [
    {
     "name": "stdout",
     "output_type": "stream",
     "text": [
      "Uninfected\n"
     ]
    }
   ],
   "source": [
    "if(a==1):\n",
    "    print(\"Uninfected\")\n",
    "else:\n",
    "    print(\"Infected\")"
   ]
  },
  {
   "cell_type": "code",
   "execution_count": null,
   "metadata": {},
   "outputs": [],
   "source": []
  },
  {
   "cell_type": "code",
   "execution_count": null,
   "metadata": {},
   "outputs": [],
   "source": []
  }
 ],
 "metadata": {
  "kernelspec": {
   "display_name": "Python 3",
   "language": "python",
   "name": "python3"
  },
  "language_info": {
   "codemirror_mode": {
    "name": "ipython",
    "version": 3
   },
   "file_extension": ".py",
   "mimetype": "text/x-python",
   "name": "python",
   "nbconvert_exporter": "python",
   "pygments_lexer": "ipython3",
   "version": "3.7.6"
  }
 },
 "nbformat": 4,
 "nbformat_minor": 2
}
